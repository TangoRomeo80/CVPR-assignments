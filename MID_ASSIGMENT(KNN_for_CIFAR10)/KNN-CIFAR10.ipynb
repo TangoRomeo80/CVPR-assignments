{
 "cells": [
  {
   "cell_type": "code",
   "execution_count": 1,
   "id": "797a5acf",
   "metadata": {
    "code_folding": []
   },
   "outputs": [
    {
     "name": "stdout",
     "output_type": "stream",
     "text": [
      "Shape of training data: (50000, 32, 32, 3)\n",
      "Shape of training Label: (50000,)\n"
     ]
    }
   ],
   "source": [
    "import numpy as np\n",
    "import matplotlib.pyplot as plt\n",
    "import os\n",
    "\n",
    "#Loading training data\n",
    "X_tr = []\n",
    "Y_tr = []\n",
    "dir_train = './Data/train/'\n",
    "for subdir in os.listdir(dir_train):\n",
    "    for file in os.listdir(dir_train + subdir):\n",
    "        img = plt.imread(dir_train + subdir + '/' + file)\n",
    "        label = subdir\n",
    "        X_tr.append(img)\n",
    "        Y_tr.append(label)\n",
    "        \n",
    "X_train = np.array(X_tr)\n",
    "y_train = np.array(Y_tr)\n",
    "\n",
    "print(f'Shape of training data: {X_train.shape}')\n",
    "print(f'Shape of training Label: {y_train.shape}')\n"
   ]
  },
  {
   "cell_type": "code",
   "execution_count": 2,
   "id": "eb7cb1dd",
   "metadata": {},
   "outputs": [
    {
     "name": "stdout",
     "output_type": "stream",
     "text": [
      "Shape of testing data: (10000, 32, 32, 3)\n",
      "Shape of testing Label: (10000,)\n"
     ]
    }
   ],
   "source": [
    "#Loading testing data\n",
    "X_te = []\n",
    "Y_te = []\n",
    "dir_test = './Data/test/'\n",
    "for subdir in os.listdir(dir_test):\n",
    "    for file in os.listdir(dir_test + subdir):\n",
    "        img = plt.imread(dir_test + subdir + '/' + file)\n",
    "        label = subdir\n",
    "        X_te.append(img)\n",
    "        Y_te.append(label)\n",
    "        \n",
    "X_test = np.array(X_te)\n",
    "y_test = np.array(Y_te)\n",
    "\n",
    "print(f'Shape of testing data: {X_test.shape}')\n",
    "print(f'Shape of testing Label: {y_test.shape}')"
   ]
  },
  {
   "cell_type": "code",
   "execution_count": 3,
   "id": "17e3f775",
   "metadata": {},
   "outputs": [],
   "source": [
    "# Defining class for KNN implementation\n",
    "class KNN(object):\n",
    "    def __init__(self):\n",
    "        pass\n",
    "    \n",
    "    def train(self, X, y):\n",
    "        self.X_train = X\n",
    "        self.y_train = y\n",
    "        \n",
    "    def predict(self, X, k=1, num_loops=0):\n",
    "        if num_loops == 0:\n",
    "            dists = self.compute_distances(X)\n",
    "        else:\n",
    "            raise ValueError(f'Invalid value {num_loops} for num_loops')\n",
    "        return self.predict_labels(dists, k=k)\n",
    "    \n",
    "    def compute_distances(self, X):\n",
    "        num_test = X.shape[0]\n",
    "        num_train = self.X_train.shape[0]\n",
    "        dists = np.zeros((num_test, num_train), dtype=np.longlong)\n",
    "        for i in range(num_test):\n",
    "            for j in range(num_train):\n",
    "                dists[i, j] = abs(X[i].sum() - self.X_train[j].sum())\n",
    "#        dists = np.zeros((10, 100), dtype=np.longlong)\n",
    "#        for i in range(10):\n",
    "#            for j in range(100):\n",
    "#                dists[i, j] = abs(X[i].sum() - self.X_train[j].sum())\n",
    "#       dists[0, 0] = X[0].sum() - self.X_train[0].sum()\n",
    "#       for i in range(10):\n",
    "#           for j in range(100):\n",
    "#               print(str(dists[i, j]) + ',', end=' ')\n",
    "#           print()\n",
    "        return dists\n",
    "        \n",
    "    def predict_labels(self, dists, k=1):\n",
    "        num_test = dists.shape[0]\n",
    "        y_pred = [''] * num_test\n",
    "        for i in range(num_test):\n",
    "            closest_y = []\n",
    "            sorted_dist = np.argsort(dists[i])\n",
    "            closest_y = list(self.y_train[sorted_dist[0:k]])\n",
    "            y_pred[i]= max(closest_y, key=closest_y.count)\n",
    "        return y_pred"
   ]
  },
  {
   "cell_type": "code",
   "execution_count": 4,
   "id": "2f7430d5",
   "metadata": {
    "scrolled": true
   },
   "outputs": [
    {
     "name": "stderr",
     "output_type": "stream",
     "text": [
      "<ipython-input-3-8fe99e307183>:23: RuntimeWarning: overflow encountered in ulong_scalars\n",
      "  dists[i, j] = abs(X[i].sum() - self.X_train[j].sum())\n"
     ]
    }
   ],
   "source": [
    "#calculating distances neighbour distances for test values\n",
    "classifier = KNN()\n",
    "classifier.train(X_train, y_train)\n",
    "dists = classifier.compute_distances(X_test)"
   ]
  },
  {
   "cell_type": "code",
   "execution_count": 46,
   "id": "9b497050",
   "metadata": {},
   "outputs": [
    {
     "name": "stdout",
     "output_type": "stream",
     "text": [
      "20\n",
      "Accuracy for K value of 1 is: 0.2286\n",
      "Accuracy for K value of 2 is: 0.2286\n",
      "Accuracy for K value of 3 is: 0.2324\n",
      "Accuracy for K value of 4 is: 0.2412\n",
      "Accuracy for K value of 5 is: 0.2514\n",
      "Accuracy for K value of 6 is: 0.2556\n",
      "Accuracy for K value of 7 is: 0.2586\n",
      "Accuracy for K value of 8 is: 0.2602\n",
      "Accuracy for K value of 9 is: 0.268\n",
      "Accuracy for K value of 10 is: 0.2654\n",
      "Accuracy for K value of 11 is: 0.2668\n",
      "Accuracy for K value of 12 is: 0.271\n",
      "Accuracy for K value of 13 is: 0.2736\n",
      "Accuracy for K value of 14 is: 0.2762\n",
      "Accuracy for K value of 15 is: 0.277\n",
      "Accuracy for K value of 16 is: 0.2708\n",
      "Accuracy for K value of 17 is: 0.2764\n",
      "Accuracy for K value of 18 is: 0.2772\n",
      "Accuracy for K value of 19 is: 0.2754\n",
      "Accuracy for K value of 20 is: 0.274\n"
     ]
    }
   ],
   "source": [
    "#comparing K values performance\n",
    "K_values = []\n",
    "Accuracy_values = []\n",
    "for j in range(1, 21):\n",
    "    y_test_pred = classifier.predict_labels(dists, k=j)\n",
    "    num_correct = 0\n",
    "    for i in range(len(y_test_pred)):\n",
    "        if y_test[i] == y_test_pred[i]:\n",
    "            num_correct += 1\n",
    "    accuracy = float((num_correct) * 2) / len(y_test_pred)\n",
    "    K_values.append(j)\n",
    "    Accuracy_values.append(accuracy)\n",
    "\n",
    "print(len(K_values))\n",
    "    \n",
    "for i in range(20):\n",
    "    print(f'Accuracy for K value of {K_values[i]} is: {Accuracy_values[i]}')"
   ]
  },
  {
   "cell_type": "code",
   "execution_count": 47,
   "id": "f939d4b5",
   "metadata": {},
   "outputs": [
    {
     "data": {
      "image/png": "[encoded data removed]",
      "text/plain": [
       "<Figure size 432x288 with 1 Axes>"
      ]
     },
     "metadata": {
      "needs_background": "light"
     },
     "output_type": "display_data"
    }
   ],
   "source": [
    "#plotting accuracy for the K values\n",
    "X = np.array(K_values)\n",
    "Y = np.array(Accuracy_values)\n",
    "plt.plot(X, Y, 'go--', linewidth=2, markersize=5)\n",
    "plt.ylim([0.2, 0.3])\n",
    "plt.xlim([0, 21])\n",
    "plt.xlabel('K_values')\n",
    "plt.ylabel('Accuracy')\n",
    "plt.show()"
   ]
  },
  {
   "cell_type": "markdown",
   "id": "40fb6b7d",
   "metadata": {},
   "source": [
    "Analysis of the results <br><br>\n",
    "KNN is a simple supervised algorithm for machine learning. It can be used for both classification and regression problem. In the above implementation an attept was undertaken to classify the cifar 10 images dataset. From the accuracy plot it is clear that KNN is not the best algorithm for the purpose of image classification since the maximum accuracy is only 0.2772. The best accuracy value is achieved at the K value of 18. The second best accuracy value is 0.277, which is achieved at the K value of 15. There maybe better ways to implement this algorithm, but for this implementation, the accuracy is not at all satisfactory. So it can be concluded that KNN is not a suitable algorithm for image classification."
   ]
  }
 ],
 "metadata": {
  "kernelspec": {
   "display_name": "Python 3",
   "language": "python",
   "name": "python3"
  },
  "language_info": {
   "codemirror_mode": {
    "name": "ipython",
    "version": 3
   },
   "file_extension": ".py",
   "mimetype": "text/x-python",
   "name": "python",
   "nbconvert_exporter": "python",
   "pygments_lexer": "ipython3",
   "version": "3.8.8"
  }
 },
 "nbformat": 4,
 "nbformat_minor": 5
}
